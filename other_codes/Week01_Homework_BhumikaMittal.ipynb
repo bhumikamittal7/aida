{
  "nbformat": 4,
  "nbformat_minor": 0,
  "metadata": {
    "colab": {
      "provenance": [],
      "collapsed_sections": []
    },
    "kernelspec": {
      "name": "python3",
      "display_name": "Python 3"
    },
    "language_info": {
      "name": "python"
    }
  },
  "cells": [
    {
      "cell_type": "markdown",
      "source": [
        "Generate the Fibonacci series."
      ],
      "metadata": {
        "id": "CyBUVILa3ftr"
      }
    },
    {
      "cell_type": "code",
      "execution_count": 2,
      "metadata": {
        "id": "TtP2AjEj3bqx",
        "colab": {
          "base_uri": "https://localhost:8080/"
        },
        "outputId": "b33c38e5-baaa-400f-cedb-f51c49f16083"
      },
      "outputs": [
        {
          "output_type": "stream",
          "name": "stdout",
          "text": [
            "Fibonacci series upto 10 : [0, 1, 1, 2, 3, 5, 8, 13, 21, 34]\n"
          ]
        }
      ],
      "source": [
        "#defining a function for the sake of abstraction\n",
        "\n",
        "def fib(n):\n",
        "#----------initialising the variables--------------\n",
        "  n1 = 0\n",
        "  n2 = 1\n",
        "  series = []\n",
        "#--------------------------------------------------\n",
        "#---------- avoiding edge cases -------------------\n",
        "  if n<1:\n",
        "    return \"Invalid input\"\n",
        "#--------------------------------------------------\n",
        "#---------- base case -----------------------------\n",
        "  elif n == 1:\n",
        "    series.append(n1)\n",
        "    return series\n",
        "#--------------------------------------------------\n",
        "#---------- generating the fib series -------------\n",
        "  else:\n",
        "    series.append(n1)\n",
        "    series.append(n2)\n",
        "\n",
        "    for i in range(2,n):\n",
        "      x = n1 + n2\n",
        "      n1 = n2\n",
        "      n2 = x\n",
        "      series.append(x)\n",
        "    return series\n",
        "\n",
        "#--------------------------------------------------\n",
        "#---------- test case -----------------------------\n",
        "n = 10\n",
        "print (\"Fibonacci series upto {} :\".format(n), fib(n))"
      ]
    },
    {
      "cell_type": "markdown",
      "source": [
        "The following list has been provided\n",
        "\n",
        "  A = [1,2,3]\n",
        "  \n",
        "  B = [“Hi”, “How are you”]\n",
        "\n",
        "Create a dictionary where the keys are B and A and the values mapped to the keys are [1,2,3] and [“Hi”, “How are you”] respectively."
      ],
      "metadata": {
        "id": "2PnT7UAN89UZ"
      }
    },
    {
      "cell_type": "code",
      "source": [
        "#---------- declaring the variables ---------------\n",
        "A = [1,2,3]\n",
        "B = [\"Hi\", \"How are you\"]\n",
        "\n",
        "#---------- creating the dictionary ---------------\n",
        "dict = {\"B\":A, \"A\":B}\n",
        "\n",
        "#---------- output --------------------------------\n",
        "dict"
      ],
      "metadata": {
        "id": "g-p2Upht9Glr",
        "colab": {
          "base_uri": "https://localhost:8080/"
        },
        "outputId": "66600322-d720-46d0-f1b7-bd328676150d"
      },
      "execution_count": 13,
      "outputs": [
        {
          "output_type": "execute_result",
          "data": {
            "text/plain": [
              "{'B': [1, 2, 3], 'A': ['Hi', 'How are you']}"
            ]
          },
          "metadata": {},
          "execution_count": 13
        }
      ]
    },
    {
      "cell_type": "markdown",
      "source": [
        "Generate a range (0,11). For the first 5 values check which values are even and for the remaining 5 values check which values are odd. Use a for loop. Your output should show state the following: \n",
        "1. Checked the first 5 numbers for even numbers. The even numbers are a,b,c etc. \n",
        "2. Checked the last 5 numbers for odd numbers. The odd number are p,q,r etc.\n",
        "\n",
        "Naturally, a,b,c and p,q,r are numbers drawn from the range that you generated."
      ],
      "metadata": {
        "id": "ngH0TZLZ_3C0"
      }
    },
    {
      "cell_type": "code",
      "source": [
        "myrange = [i for i in range(1, 11)] \n",
        "evenList = []\n",
        "oddList = []\n",
        "\n",
        "for x in myrange:\n",
        "  if myrange.index(x)<5:\n",
        "    if x %2 == 0:\n",
        "      evenList.append(x)\n",
        "  else:\n",
        "    if x %2 == 1:\n",
        "      oddList.append(x)\n",
        "\n",
        "even = ','.join(map(str, evenList))\n",
        "odd = ','.join(map(str, oddList))\n",
        "\n",
        "print(\"Checked the first 5 numbers for even numbers. The even numbers are\", even)\n",
        "print(\"Checked the last 5 numbers for odd numbers. The odd number are\", odd)"
      ],
      "metadata": {
        "id": "XqVuXD4fCWRZ",
        "colab": {
          "base_uri": "https://localhost:8080/"
        },
        "outputId": "fe17c91c-6358-4524-ea38-ddb59477fcf9"
      },
      "execution_count": 14,
      "outputs": [
        {
          "output_type": "stream",
          "name": "stdout",
          "text": [
            "Checked the first 5 numbers for even numbers. The even numbers are 2,4\n",
            "Checked the last 5 numbers for odd numbers. The odd number are 7,9\n"
          ]
        }
      ]
    },
    {
      "cell_type": "markdown",
      "source": [
        "Input the following string: Test = “Python is found in Africa”\n",
        "\n",
        "Output the following string: “Acirfa is dnuof in nohTYP”"
      ],
      "metadata": {
        "id": "E84kbrZOG7n5"
      }
    },
    {
      "cell_type": "code",
      "source": [
        "string = \"Python is found in Africa\"\n",
        "mylist = string.split( )\n",
        "\n",
        "str1 = ''\n",
        "str2 = ''\n",
        "str3 = ''\n",
        "\n",
        "for x in mylist[4]:\n",
        "  str1 = x + str1\n",
        "str1 = str1.capitalize()\n",
        "\n",
        "for x in mylist[2]:\n",
        "  str2 = x + str2\n",
        "\n",
        "for x in mylist[0]:\n",
        "  str3 = x + str3\n",
        "str3 = str3[0:3]+str3[3:].upper()\n",
        "\n",
        "print(str1 + \" \" + mylist[1] + \" \" + str2 + \" \" + mylist[3] + \" \" + str3)"
      ],
      "metadata": {
        "id": "ejkv9InXHCo8",
        "colab": {
          "base_uri": "https://localhost:8080/"
        },
        "outputId": "bdab219c-dc6c-496b-87e4-77306a78b521"
      },
      "execution_count": 15,
      "outputs": [
        {
          "output_type": "stream",
          "name": "stdout",
          "text": [
            "Acirfa is dnuof in nohTYP\n"
          ]
        }
      ]
    },
    {
      "cell_type": "markdown",
      "source": [
        "T = “Racecar”. Check if this is a palindrome (check the definition from the net). Your output should say “Racecar is a palindrome”."
      ],
      "metadata": {
        "id": "3nBJp9_TKYdM"
      }
    },
    {
      "cell_type": "code",
      "source": [
        "T = \"Racecar\"\n",
        "T1 = T.lower()\n",
        "if T1 == T1[::-1]:\n",
        "  print(\"{} is a palindrome\".format(T))\n",
        "else:\n",
        "  print(\"{} is not a palindrome\".format(T))"
      ],
      "metadata": {
        "id": "g18JRkZCKhMY",
        "colab": {
          "base_uri": "https://localhost:8080/"
        },
        "outputId": "31483f09-7d3e-44f2-c90e-f7e12a545b23"
      },
      "execution_count": 16,
      "outputs": [
        {
          "output_type": "stream",
          "name": "stdout",
          "text": [
            "Racecar is a palindrome\n"
          ]
        }
      ]
    },
    {
      "cell_type": "markdown",
      "source": [
        "Generate the output of the following equation y = x/2 + 1. The values of X can be obtained from the dictionary {‘x’: “1 2 3 4 5”}"
      ],
      "metadata": {
        "id": "QKd6-27LNiJE"
      }
    },
    {
      "cell_type": "code",
      "source": [
        "dict1 = {\"x\": \"1 2 3 4 5\"}\n",
        "mylist = dict1[\"x\"].split()\n",
        "\n",
        "for x in mylist:\n",
        "  y = int(x)/2 + 1\n",
        "  print(y)"
      ],
      "metadata": {
        "id": "d4z4zx8YNo_J",
        "colab": {
          "base_uri": "https://localhost:8080/"
        },
        "outputId": "36a05003-6abd-43b0-9d31-700fd8379810"
      },
      "execution_count": 17,
      "outputs": [
        {
          "output_type": "stream",
          "name": "stdout",
          "text": [
            "1.5\n",
            "2.0\n",
            "2.5\n",
            "3.0\n",
            "3.5\n"
          ]
        }
      ]
    },
    {
      "cell_type": "markdown",
      "source": [
        "The initial string given to you was “Python is just getting started”. The new string needed from you is “Python for Marketing and Sales is just getting started”."
      ],
      "metadata": {
        "id": "oXamfH-EPqC4"
      }
    },
    {
      "cell_type": "code",
      "source": [
        "string = \"Python is just getting started\"\n",
        "addStr = \"for Marketing and Sales\"\n",
        "\n",
        "newStr = string[:7] + addStr + string[6:]\n",
        "newStr"
      ],
      "metadata": {
        "id": "plnAJI3aPybj",
        "colab": {
          "base_uri": "https://localhost:8080/",
          "height": 36
        },
        "outputId": "6b6b2b55-4120-4e47-8d05-c152761a8ba4"
      },
      "execution_count": 18,
      "outputs": [
        {
          "output_type": "execute_result",
          "data": {
            "text/plain": [
              "'Python for Marketing and Sales is just getting started'"
            ],
            "application/vnd.google.colaboratory.intrinsic+json": {
              "type": "string"
            }
          },
          "metadata": {},
          "execution_count": 18
        }
      ]
    },
    {
      "cell_type": "markdown",
      "source": [
        "The following tupple was provided t = (22, 7, 11). You want to insert a new element 20 in the tupple. The new tupple should be (22,7,11,20)."
      ],
      "metadata": {
        "id": "yZLshEXUTYp9"
      }
    },
    {
      "cell_type": "code",
      "source": [
        "t = (22, 7, 11)\n",
        "\n",
        "l = list(t)\n",
        "l.insert(3, 20)\n",
        "t = tuple(l)\n",
        "\n",
        "t"
      ],
      "metadata": {
        "id": "X65betbFTnK8",
        "colab": {
          "base_uri": "https://localhost:8080/"
        },
        "outputId": "051716d9-3bca-476c-fea8-9f94264b15bc"
      },
      "execution_count": 19,
      "outputs": [
        {
          "output_type": "execute_result",
          "data": {
            "text/plain": [
              "(22, 7, 11, 20)"
            ]
          },
          "metadata": {},
          "execution_count": 19
        }
      ]
    },
    {
      "cell_type": "markdown",
      "source": [
        "This is the input X = {“Key1”: “Hello”, “Key2”: “How are you”}. Using this create an output which is “Hello How are you”."
      ],
      "metadata": {
        "id": "33hozlGpUNB-"
      }
    },
    {
      "cell_type": "code",
      "source": [
        "x = {\"Key1\": \"Hello\", \"Key2\": \"How are you\"}\n",
        "out = x[\"Key1\"] + \" \" + x[\"Key2\"]\n",
        "\n",
        "out"
      ],
      "metadata": {
        "id": "EDohr0LhURWP",
        "colab": {
          "base_uri": "https://localhost:8080/",
          "height": 36
        },
        "outputId": "0b623f2d-9368-47c5-bd1b-3c8dd06c29d8"
      },
      "execution_count": 20,
      "outputs": [
        {
          "output_type": "execute_result",
          "data": {
            "text/plain": [
              "'Hello How are you'"
            ],
            "application/vnd.google.colaboratory.intrinsic+json": {
              "type": "string"
            }
          },
          "metadata": {},
          "execution_count": 20
        }
      ]
    },
    {
      "cell_type": "markdown",
      "source": [
        "Create your own problem and solve it :) \n",
        "\n",
        "\n",
        "**Problem Statement:** Given n set of points in the plane, p = {(x0, y0), (x1, y1), . . . (xn−1, yn−1)} we want to find the distance between the pair that is closest to each other, ie., pairs pi = (xi , yi ) and pj = (xj , yj ) such that the distance between them dij = sqrt[(xi − xj )^2 + (yi − yj )^2] is minimised."
      ],
      "metadata": {
        "id": "XYJwCvj0dnA6"
      }
    },
    {
      "cell_type": "code",
      "source": [
        "import math\n",
        "\n",
        "#quick select algorithm to find the location of the n-th element without sorting in O(n) time\n",
        "def findElementLocation(L, startLoc): \n",
        "    nloc = startLoc \n",
        "\n",
        "    for pos in range(startLoc+1, len(L)):\n",
        "        if L[pos][1] > L[nloc][1]: \n",
        "            nloc = pos \n",
        "\n",
        "    return nloc\n",
        "\n",
        "#find the x co-ordinate of the point\n",
        "def x(p):\n",
        "\treturn p[0]\n",
        "\n",
        "#find the y co-ordinate of the point\n",
        "def y(p):\n",
        "\treturn p[1]\n",
        "\n",
        "#find the distance betwwen two points using formula\n",
        "def distance(p1, p2):\n",
        "\treturn math.sqrt((x(p1) - x(p2))**2 + (y(p1) - y(p2))**2)\n",
        "\n",
        "#brute force method to find the minimum distance by comparing all the possiblities\n",
        "def algo(P):\n",
        "\tn = len(P)\n",
        "\tminvalue = float('inf')\n",
        "\tfor i in range(0,n):\n",
        "\t\tfor j in range(i+1, n):\n",
        "\t\t\tif (distance(P[i], P[j]) < minvalue):\n",
        "\t\t\t\tminvalue = distance(P[i], P[j])\n",
        "\treturn minvalue\n",
        "\n",
        "#find the minimum distance in the given strip (sorted according to y coordinates), of size d.\n",
        "def close(P, d):\n",
        "\tn = len(P) \n",
        "\tminvalue = d\n",
        "\tfor i in range(0,n): #this is similar to brute force\n",
        "\t\tj = i+1 #choose all the points in the strip once (at most 7 points)\n",
        "\t\twhile (j<n) and (y(P[j]) - y(P[i]) < minvalue): #check their distance between y - coordinate\n",
        "\t\t\tminvalue = distance(P[i], P[j]) #if it is less than given d, change the value of minimum distance\n",
        "\t\t\tj +=1\n",
        "\treturn minvalue\n",
        "\n",
        "#Divide and conquer algorithm to recursively find the smallest distance\n",
        "def closest(P, Q): #take the given list P and it's copy Q which is sorted by y-coordinates\n",
        "\tn = len(P)\n",
        "\n",
        "\t#base cases\n",
        "\tif n<4: \n",
        "\t\treturn algo(P)\n",
        "\n",
        "\tmid = findElementLocation(P, n//2) #using quick select - T(n) = O(nlogn) complexity\n",
        "\t#mid = n//2  #using merge sort - T(n) = O(nlog^2n) complexity\n",
        "\n",
        "\t#find the midpoint and divide the list into two halves - left and right\n",
        "\tmidpoint = P[mid] \n",
        "\t\n",
        "\tPleft = P[:mid]\n",
        "\tPright = P[mid:]\n",
        "\n",
        "\tdleft = closest(Pleft, Q) #recurrsively find the min distance in left side\n",
        "\tdright = closest(Pright, Q) #and on right side\n",
        "\n",
        "\tmin_d = min(dleft, dright) #take the min out of left and right\n",
        "\n",
        "\t#now this is the conquer step where we also check for the points in which one is on left and other on right\n",
        "\tP1, Q1 = [], []\n",
        "\tarr = Pleft+Pright\n",
        "\n",
        "\t#for the points closer than d from the midpoint line, append them in arr\n",
        "\tfor i in range(0,n):\n",
        "\t\tif (abs(x(arr[i]) - x(midpoint)) < min_d):\n",
        "\t\t\tP1.append(arr[i])\n",
        "\t\tif (abs(x(Q[i]) - x(midpoint)) < min_d):\n",
        "\t\t\tQ1.append(Q[i])\n",
        "\n",
        "\tP1.sort(key = lambda P1: P1[1]) #sort arr according to y coordinates\n",
        "\n",
        "\tminA = min(min_d, close(P1,min_d)) #find the min value from left strip\n",
        "\tminB = min(min_d, close(Q1,min_d)) #find the min value from right strip\n",
        "\n",
        "\tminV = min(minA, minB) \n",
        "\n",
        "\treturn minV #return min of the overall points in the plane\n",
        "\n",
        "def better_algo(P):\n",
        "\tQ = P \n",
        "#\tP.sort(key = lambda P: P[0])\n",
        "\tQ.sort(key = lambda Q: Q[1])\t#sorting according to y coordinate\n",
        "\treturn closest(P, Q)\n",
        "\n",
        "\n",
        "#P = [(2, 3), (12, 30), (40, 50), (5, 1), (12, 10)]\n",
        "P = [(2, 3), (12, 30), (40, 50), (5, 1), (12, 10), (3, 49), (20,31), (31,41), (42,5), (67,1), (3,6), (2,31), (7,41), (4,5), (0,4)]\n",
        "\n",
        "print(algo(P))\n",
        "print(\"#======================================\")\n",
        "print(better_algo(P))"
      ],
      "metadata": {
        "colab": {
          "base_uri": "https://localhost:8080/"
        },
        "id": "olaoRCJMXVgC",
        "outputId": "a67ed299-b6ea-4415-bb8c-ce70fb910e70"
      },
      "execution_count": 12,
      "outputs": [
        {
          "output_type": "stream",
          "name": "stdout",
          "text": [
            "1.4142135623730951\n",
            "#======================================\n",
            "1.4142135623730951\n"
          ]
        }
      ]
    }
  ]
}