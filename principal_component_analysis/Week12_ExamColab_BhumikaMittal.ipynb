{
  "nbformat": 4,
  "nbformat_minor": 0,
  "metadata": {
    "colab": {
      "provenance": []
    },
    "kernelspec": {
      "name": "python3",
      "display_name": "Python 3"
    },
    "language_info": {
      "name": "python"
    }
  },
  "cells": [
    {
      "cell_type": "code",
      "execution_count": 371,
      "metadata": {
        "id": "DP7ta2ouHN42"
      },
      "outputs": [],
      "source": [
        "#====== importing libraries ==========\n",
        "import numpy as np\n",
        "import pandas as pd\n",
        "\n",
        "from sklearn.preprocessing import StandardScaler\n",
        "from sklearn.preprocessing import scale \n",
        "from sklearn.model_selection import train_test_split\n",
        "from sklearn.linear_model import LinearRegression\n",
        "from sklearn.metrics import mean_squared_error\n",
        "from sklearn import model_selection\n",
        "from statsmodels.multivariate.pca import PCA\n",
        "\n",
        "#importing ploting libraries\n",
        "import matplotlib.pyplot as plt"
      ]
    },
    {
      "cell_type": "code",
      "source": [
        "#========= importing file and dropping unnecessary columns ==================\n",
        "df = pd.read_csv(\"Week12_ExamExcel_BhumikaMittal.csv\")\n",
        "y = df['NIFTY50']\n",
        "df.drop(['Date', 'NIFTY50'], axis=1, inplace=True)\n",
        "x = df\n",
        "#=========== standard fit the data ===========\n",
        "x_std = StandardScaler().fit_transform(x)\n",
        "\n",
        "#Obtain the variance and covariance matrix\n",
        "cov_matrix = np.cov(x_std.T)\n",
        "print('Covariance matrix \\n%s' %cov_matrix)"
      ],
      "metadata": {
        "colab": {
          "base_uri": "https://localhost:8080/"
        },
        "id": "fc68-VhlIyOa",
        "outputId": "3d6c12b1-d0ba-4b9c-d7e5-ed81013b4025"
      },
      "execution_count": 372,
      "outputs": [
        {
          "output_type": "stream",
          "name": "stdout",
          "text": [
            "Covariance matrix \n",
            "[[1.00404858 0.36302211 0.88188057 0.43150146 0.56749821 0.45021471\n",
            "  0.61848332 0.33364993]\n",
            " [0.36302211 1.00404858 0.37337447 0.32527626 0.42627485 0.37216665\n",
            "  0.36183084 0.24390565]\n",
            " [0.88188057 0.37337447 1.00404858 0.45358662 0.53172333 0.45626232\n",
            "  0.63093292 0.39752788]\n",
            " [0.43150146 0.32527626 0.45358662 1.00404858 0.38653177 0.74395248\n",
            "  0.33331691 0.28350723]\n",
            " [0.56749821 0.42627485 0.53172333 0.38653177 1.00404858 0.38073753\n",
            "  0.59343943 0.37807737]\n",
            " [0.45021471 0.37216665 0.45626232 0.74395248 0.38073753 1.00404858\n",
            "  0.32896752 0.32359248]\n",
            " [0.61848332 0.36183084 0.63093292 0.33331691 0.59343943 0.32896752\n",
            "  1.00404858 0.40498003]\n",
            " [0.33364993 0.24390565 0.39752788 0.28350723 0.37807737 0.32359248\n",
            "  0.40498003 1.00404858]]\n"
          ]
        }
      ]
    },
    {
      "cell_type": "code",
      "source": [
        "#Obtain the eigenvalues and eigenvectors\n",
        "eig_vals, eig_vecs = np.linalg.eig(cov_matrix)\n",
        "print('Eigenvectors \\n%s' %eig_vecs)\n",
        "print('\\nEigenvalues \\n%s' %eig_vals)"
      ],
      "metadata": {
        "colab": {
          "base_uri": "https://localhost:8080/"
        },
        "id": "Hi-BFiL2KpWa",
        "outputId": "8209c108-33f9-4c25-a900-7ebb3a599364"
      },
      "execution_count": 373,
      "outputs": [
        {
          "output_type": "stream",
          "name": "stdout",
          "text": [
            "Eigenvectors \n",
            "[[-0.41102204 -0.2313758   0.6952562   0.03556577 -0.22618199 -0.26952577\n",
            "   0.40981249  0.03363477]\n",
            " [-0.28446406  0.07892133  0.02099503 -0.07072112  0.05482058 -0.36132059\n",
            "  -0.41389527 -0.77623592]\n",
            " [-0.41632307 -0.21722928 -0.70494857 -0.07917625 -0.1276903  -0.36249713\n",
            "   0.34605304  0.09382695]\n",
            " [-0.33452321  0.5968136   0.05855408 -0.68096543  0.10026191  0.16754073\n",
            "   0.11742269  0.11337911]\n",
            " [-0.36708868 -0.20412648 -0.08743896  0.03521516 -0.5190217   0.70164249\n",
            "  -0.14870773 -0.17576378]\n",
            " [-0.34205696  0.59328782 -0.04746344  0.71830856  0.04877662  0.0194678\n",
            "   0.04235815  0.0907429 ]\n",
            " [-0.37129944 -0.36219103  0.02982424  0.06035503  0.79924345  0.29576496\n",
            "   0.00190367  0.01231021]\n",
            " [-0.27439036 -0.10964142  0.07077518 -0.05385895 -0.0944795  -0.23910485\n",
            "  -0.70943062  0.57912819]]\n",
            "\n",
            "Eigenvalues \n",
            "[4.16269988 1.06766642 0.11556621 0.25617411 0.38168082 0.5160008\n",
            " 0.77161835 0.76098209]\n"
          ]
        }
      ]
    },
    {
      "cell_type": "code",
      "source": [
        "#Create eigen pairs\n",
        "eigen_pairs = [(np.abs(eig_vals[i]), eig_vecs[:,i]) for i in range(len(eig_vals))]\n",
        "eigen_pairs"
      ],
      "metadata": {
        "colab": {
          "base_uri": "https://localhost:8080/"
        },
        "id": "yylsAraXLnyb",
        "outputId": "cc78df2d-f558-45d0-f137-754b3c1b3bde"
      },
      "execution_count": 374,
      "outputs": [
        {
          "output_type": "execute_result",
          "data": {
            "text/plain": [
              "[(4.162699875866,\n",
              "  array([-0.41102204, -0.28446406, -0.41632307, -0.33452321, -0.36708868,\n",
              "         -0.34205696, -0.37129944, -0.27439036])),\n",
              " (1.0676664157252653,\n",
              "  array([-0.2313758 ,  0.07892133, -0.21722928,  0.5968136 , -0.20412648,\n",
              "          0.59328782, -0.36219103, -0.10964142])),\n",
              " (0.11556620790497675,\n",
              "  array([ 0.6952562 ,  0.02099503, -0.70494857,  0.05855408, -0.08743896,\n",
              "         -0.04746344,  0.02982424,  0.07077518])),\n",
              " (0.25617410605137897,\n",
              "  array([ 0.03556577, -0.07072112, -0.07917625, -0.68096543,  0.03521516,\n",
              "          0.71830856,  0.06035503, -0.05385895])),\n",
              " (0.3816808171147624,\n",
              "  array([-0.22618199,  0.05482058, -0.1276903 ,  0.10026191, -0.5190217 ,\n",
              "          0.04877662,  0.79924345, -0.0944795 ])),\n",
              " (0.5160007999589653,\n",
              "  array([-0.26952577, -0.36132059, -0.36249713,  0.16754073,  0.70164249,\n",
              "          0.0194678 ,  0.29576496, -0.23910485])),\n",
              " (0.7716183464279476,\n",
              "  array([ 0.40981249, -0.41389527,  0.34605304,  0.11742269, -0.14870773,\n",
              "          0.04235815,  0.00190367, -0.70943062])),\n",
              " (0.760982094918311,\n",
              "  array([ 0.03363477, -0.77623592,  0.09382695,  0.11337911, -0.17576378,\n",
              "          0.0907429 ,  0.01231021,  0.57912819]))]"
            ]
          },
          "metadata": {},
          "execution_count": 374
        }
      ]
    },
    {
      "cell_type": "code",
      "source": [
        "#Compute the cumlative variance\n",
        "tot = sum(eig_vals)\n",
        "var_exp = [(i / tot)*100 for i in sorted(eig_vals, reverse=True)]\n",
        "cum_var_exp = np.cumsum(var_exp)\n",
        "print(\"Cumulative Variance Explained\",cum_var_exp)\n",
        "\n",
        "#we observe that only first 4 components contribute to more than 80% of the information. Hence, rest can be reduced in dimension reduction."
      ],
      "metadata": {
        "colab": {
          "base_uri": "https://localhost:8080/"
        },
        "id": "WcSp4D7RLpB6",
        "outputId": "ce6f07b2-400d-4c92-aad4-7bf4e6e7041f"
      },
      "execution_count": 375,
      "outputs": [
        {
          "output_type": "stream",
          "name": "stdout",
          "text": [
            "Cumulative Variance Explained [ 51.82393495  65.11595131  74.72228859  84.19620882  90.62021072\n",
            "  95.37198299  98.56124731 100.        ]\n"
          ]
        }
      ]
    },
    {
      "cell_type": "code",
      "source": [
        "#make a scree plot\n",
        "from statsmodels.multivariate.factor import Factor\n",
        "model = Factor(df).fit()\n",
        "model.plot_scree()\n",
        "plt.show()"
      ],
      "metadata": {
        "colab": {
          "base_uri": "https://localhost:8080/",
          "height": 297
        },
        "id": "GeK9WWcULrX7",
        "outputId": "0f21bce6-2894-4159-f656-cc253594101b"
      },
      "execution_count": 376,
      "outputs": [
        {
          "output_type": "display_data",
          "data": {
            "text/plain": [
              "<Figure size 432x288 with 2 Axes>"
            ],
            "image/png": "[encoded data removed]"
          },
          "metadata": {
            "needs_background": "light"
          }
        }
      ]
    },
    {
      "cell_type": "code",
      "source": [
        "#Extract the PCA components\n",
        "pc = PCA(df, ncomp=8, standardize=True, demean = True)\n",
        "pc"
      ],
      "metadata": {
        "colab": {
          "base_uri": "https://localhost:8080/"
        },
        "id": "V63zs8gFLvJx",
        "outputId": "23e05d87-343f-4baa-a66d-836527791d91"
      },
      "execution_count": 377,
      "outputs": [
        {
          "output_type": "execute_result",
          "data": {
            "text/plain": [
              "Principal Component Analysis(nobs: 248, nvar: 8, transformation: Standardize (Correlation), normalization: True, number of components: 8, SVD, id: 0x7f7cd668dca0)"
            ]
          },
          "metadata": {},
          "execution_count": 377
        }
      ]
    },
    {
      "cell_type": "code",
      "source": [
        "#Compute the loadings on the variables\n",
        "df_comp = pc.loadings.T\n",
        "df_comp"
      ],
      "metadata": {
        "colab": {
          "base_uri": "https://localhost:8080/",
          "height": 300
        },
        "id": "kgrOeELrL5eH",
        "outputId": "f5795d1d-a9df-44f1-8064-04f361ebb47e"
      },
      "execution_count": 378,
      "outputs": [
        {
          "output_type": "execute_result",
          "data": {
            "text/plain": [
              "        HDFC Bank       RIL      HDFC   Infosys  ICICI Bank       TCS  \\\n",
              "comp_0   0.411022  0.284464  0.416323  0.334523    0.367089  0.342057   \n",
              "comp_1  -0.231376  0.078921 -0.217229  0.596814   -0.204126  0.593288   \n",
              "comp_2   0.409812 -0.413895  0.346053  0.117423   -0.148708  0.042358   \n",
              "comp_3  -0.033635  0.776236 -0.093827 -0.113379    0.175764 -0.090743   \n",
              "comp_4  -0.269526 -0.361321 -0.362497  0.167541    0.701642  0.019468   \n",
              "comp_5  -0.226182  0.054821 -0.127690  0.100262   -0.519022  0.048777   \n",
              "comp_6   0.035566 -0.070721 -0.079176 -0.680965    0.035215  0.718309   \n",
              "comp_7  -0.695256 -0.020995  0.704949 -0.058554    0.087439  0.047463   \n",
              "\n",
              "        Kotak Bank       HUL  \n",
              "comp_0    0.371299  0.274390  \n",
              "comp_1   -0.362191 -0.109641  \n",
              "comp_2    0.001904 -0.709431  \n",
              "comp_3   -0.012310 -0.579128  \n",
              "comp_4    0.295765 -0.239105  \n",
              "comp_5    0.799243 -0.094479  \n",
              "comp_6    0.060355 -0.053859  \n",
              "comp_7   -0.029824 -0.070775  "
            ],
            "text/html": [
              "\n",
              "  <div id=\"df-3c912ceb-6ba4-4037-8160-93d56ff23104\">\n",
              "    <div class=\"colab-df-container\">\n",
              "      <div>\n",
              "<style scoped>\n",
              "    .dataframe tbody tr th:only-of-type {\n",
              "        vertical-align: middle;\n",
              "    }\n",
              "\n",
              "    .dataframe tbody tr th {\n",
              "        vertical-align: top;\n",
              "    }\n",
              "\n",
              "    .dataframe thead th {\n",
              "        text-align: right;\n",
              "    }\n",
              "</style>\n",
              "<table border=\"1\" class=\"dataframe\">\n",
              "  <thead>\n",
              "    <tr style=\"text-align: right;\">\n",
              "      <th></th>\n",
              "      <th>HDFC Bank</th>\n",
              "      <th>RIL</th>\n",
              "      <th>HDFC</th>\n",
              "      <th>Infosys</th>\n",
              "      <th>ICICI Bank</th>\n",
              "      <th>TCS</th>\n",
              "      <th>Kotak Bank</th>\n",
              "      <th>HUL</th>\n",
              "    </tr>\n",
              "  </thead>\n",
              "  <tbody>\n",
              "    <tr>\n",
              "      <th>comp_0</th>\n",
              "      <td>0.411022</td>\n",
              "      <td>0.284464</td>\n",
              "      <td>0.416323</td>\n",
              "      <td>0.334523</td>\n",
              "      <td>0.367089</td>\n",
              "      <td>0.342057</td>\n",
              "      <td>0.371299</td>\n",
              "      <td>0.274390</td>\n",
              "    </tr>\n",
              "    <tr>\n",
              "      <th>comp_1</th>\n",
              "      <td>-0.231376</td>\n",
              "      <td>0.078921</td>\n",
              "      <td>-0.217229</td>\n",
              "      <td>0.596814</td>\n",
              "      <td>-0.204126</td>\n",
              "      <td>0.593288</td>\n",
              "      <td>-0.362191</td>\n",
              "      <td>-0.109641</td>\n",
              "    </tr>\n",
              "    <tr>\n",
              "      <th>comp_2</th>\n",
              "      <td>0.409812</td>\n",
              "      <td>-0.413895</td>\n",
              "      <td>0.346053</td>\n",
              "      <td>0.117423</td>\n",
              "      <td>-0.148708</td>\n",
              "      <td>0.042358</td>\n",
              "      <td>0.001904</td>\n",
              "      <td>-0.709431</td>\n",
              "    </tr>\n",
              "    <tr>\n",
              "      <th>comp_3</th>\n",
              "      <td>-0.033635</td>\n",
              "      <td>0.776236</td>\n",
              "      <td>-0.093827</td>\n",
              "      <td>-0.113379</td>\n",
              "      <td>0.175764</td>\n",
              "      <td>-0.090743</td>\n",
              "      <td>-0.012310</td>\n",
              "      <td>-0.579128</td>\n",
              "    </tr>\n",
              "    <tr>\n",
              "      <th>comp_4</th>\n",
              "      <td>-0.269526</td>\n",
              "      <td>-0.361321</td>\n",
              "      <td>-0.362497</td>\n",
              "      <td>0.167541</td>\n",
              "      <td>0.701642</td>\n",
              "      <td>0.019468</td>\n",
              "      <td>0.295765</td>\n",
              "      <td>-0.239105</td>\n",
              "    </tr>\n",
              "    <tr>\n",
              "      <th>comp_5</th>\n",
              "      <td>-0.226182</td>\n",
              "      <td>0.054821</td>\n",
              "      <td>-0.127690</td>\n",
              "      <td>0.100262</td>\n",
              "      <td>-0.519022</td>\n",
              "      <td>0.048777</td>\n",
              "      <td>0.799243</td>\n",
              "      <td>-0.094479</td>\n",
              "    </tr>\n",
              "    <tr>\n",
              "      <th>comp_6</th>\n",
              "      <td>0.035566</td>\n",
              "      <td>-0.070721</td>\n",
              "      <td>-0.079176</td>\n",
              "      <td>-0.680965</td>\n",
              "      <td>0.035215</td>\n",
              "      <td>0.718309</td>\n",
              "      <td>0.060355</td>\n",
              "      <td>-0.053859</td>\n",
              "    </tr>\n",
              "    <tr>\n",
              "      <th>comp_7</th>\n",
              "      <td>-0.695256</td>\n",
              "      <td>-0.020995</td>\n",
              "      <td>0.704949</td>\n",
              "      <td>-0.058554</td>\n",
              "      <td>0.087439</td>\n",
              "      <td>0.047463</td>\n",
              "      <td>-0.029824</td>\n",
              "      <td>-0.070775</td>\n",
              "    </tr>\n",
              "  </tbody>\n",
              "</table>\n",
              "</div>\n",
              "      <button class=\"colab-df-convert\" onclick=\"convertToInteractive('df-3c912ceb-6ba4-4037-8160-93d56ff23104')\"\n",
              "              title=\"Convert this dataframe to an interactive table.\"\n",
              "              style=\"display:none;\">\n",
              "        \n",
              "  <svg xmlns=\"http://www.w3.org/2000/svg\" height=\"24px\"viewBox=\"0 0 24 24\"\n",
              "       width=\"24px\">\n",
              "    <path d=\"M0 0h24v24H0V0z\" fill=\"none\"/>\n",
              "    <path d=\"M18.56 5.44l.94 2.06.94-2.06 2.06-.94-2.06-.94-.94-2.06-.94 2.06-2.06.94zm-11 1L8.5 8.5l.94-2.06 2.06-.94-2.06-.94L8.5 2.5l-.94 2.06-2.06.94zm10 10l.94 2.06.94-2.06 2.06-.94-2.06-.94-.94-2.06-.94 2.06-2.06.94z\"/><path d=\"M17.41 7.96l-1.37-1.37c-.4-.4-.92-.59-1.43-.59-.52 0-1.04.2-1.43.59L10.3 9.45l-7.72 7.72c-.78.78-.78 2.05 0 2.83L4 21.41c.39.39.9.59 1.41.59.51 0 1.02-.2 1.41-.59l7.78-7.78 2.81-2.81c.8-.78.8-2.07 0-2.86zM5.41 20L4 18.59l7.72-7.72 1.47 1.35L5.41 20z\"/>\n",
              "  </svg>\n",
              "      </button>\n",
              "      \n",
              "  <style>\n",
              "    .colab-df-container {\n",
              "      display:flex;\n",
              "      flex-wrap:wrap;\n",
              "      gap: 12px;\n",
              "    }\n",
              "\n",
              "    .colab-df-convert {\n",
              "      background-color: #E8F0FE;\n",
              "      border: none;\n",
              "      border-radius: 50%;\n",
              "      cursor: pointer;\n",
              "      display: none;\n",
              "      fill: #1967D2;\n",
              "      height: 32px;\n",
              "      padding: 0 0 0 0;\n",
              "      width: 32px;\n",
              "    }\n",
              "\n",
              "    .colab-df-convert:hover {\n",
              "      background-color: #E2EBFA;\n",
              "      box-shadow: 0px 1px 2px rgba(60, 64, 67, 0.3), 0px 1px 3px 1px rgba(60, 64, 67, 0.15);\n",
              "      fill: #174EA6;\n",
              "    }\n",
              "\n",
              "    [theme=dark] .colab-df-convert {\n",
              "      background-color: #3B4455;\n",
              "      fill: #D2E3FC;\n",
              "    }\n",
              "\n",
              "    [theme=dark] .colab-df-convert:hover {\n",
              "      background-color: #434B5C;\n",
              "      box-shadow: 0px 1px 3px 1px rgba(0, 0, 0, 0.15);\n",
              "      filter: drop-shadow(0px 1px 2px rgba(0, 0, 0, 0.3));\n",
              "      fill: #FFFFFF;\n",
              "    }\n",
              "  </style>\n",
              "\n",
              "      <script>\n",
              "        const buttonEl =\n",
              "          document.querySelector('#df-3c912ceb-6ba4-4037-8160-93d56ff23104 button.colab-df-convert');\n",
              "        buttonEl.style.display =\n",
              "          google.colab.kernel.accessAllowed ? 'block' : 'none';\n",
              "\n",
              "        async function convertToInteractive(key) {\n",
              "          const element = document.querySelector('#df-3c912ceb-6ba4-4037-8160-93d56ff23104');\n",
              "          const dataTable =\n",
              "            await google.colab.kernel.invokeFunction('convertToInteractive',\n",
              "                                                     [key], {});\n",
              "          if (!dataTable) return;\n",
              "\n",
              "          const docLinkHtml = 'Like what you see? Visit the ' +\n",
              "            '<a target=\"_blank\" href=https://colab.research.google.com/notebooks/data_table.ipynb>data table notebook</a>'\n",
              "            + ' to learn more about interactive tables.';\n",
              "          element.innerHTML = '';\n",
              "          dataTable['output_type'] = 'display_data';\n",
              "          await google.colab.output.renderOutput(dataTable, element);\n",
              "          const docLink = document.createElement('div');\n",
              "          docLink.innerHTML = docLinkHtml;\n",
              "          element.appendChild(docLink);\n",
              "        }\n",
              "      </script>\n",
              "    </div>\n",
              "  </div>\n",
              "  "
            ]
          },
          "metadata": {},
          "execution_count": 378
        }
      ]
    },
    {
      "cell_type": "markdown",
      "source": [
        "The equations for the PCs:\n",
        "\n",
        "PC0 = 0.411022(HDFC Bank) + 0.284464(RIL) + 0.416323(HDFC) + 0.334523(Infosys)\n",
        "\n",
        "PC1 = -0.231376(HDFC Bank)+0.078921(RIL)-0.217229(HDFC)+0.596814(Infosys)\n",
        "\n",
        "PC2 = 0.409812(HDFC Bank)-0.413895(RIL)+0.346053(HDFC)+0.117423(Infosys)\n",
        "\n",
        "PC3 = -0.033635(HDFC Bank)+0.776236(RIL)-0.093827(HDFC)-0.113379(Infosys)"
      ],
      "metadata": {
        "id": "iVqJq4aX3FPi"
      }
    },
    {
      "cell_type": "code",
      "source": [
        "#Compute the scores\n",
        "scores = pd.DataFrame(pc.factors)\n",
        "scores.head()"
      ],
      "metadata": {
        "colab": {
          "base_uri": "https://localhost:8080/",
          "height": 206
        },
        "id": "1a2P9nzyL7wQ",
        "outputId": "a30b8f88-8ea4-4d4e-ac85-a058ba41aa5a"
      },
      "execution_count": 379,
      "outputs": [
        {
          "output_type": "execute_result",
          "data": {
            "text/plain": [
              "     comp_0    comp_1    comp_2    comp_3    comp_4    comp_5    comp_6  \\\n",
              "0 -0.080669 -0.088225  0.061961  0.000879 -0.022261 -0.055580 -0.058733   \n",
              "1  0.094667 -0.037107  0.008231  0.012011  0.108699  0.004502  0.045785   \n",
              "2  0.073401  0.052319  0.003684  0.019873  0.015031 -0.148873 -0.061777   \n",
              "3 -0.012667  0.022515 -0.062486  0.057293  0.013285  0.021625 -0.086482   \n",
              "4 -0.013443  0.048202 -0.015558  0.016114  0.026435 -0.045652  0.079718   \n",
              "\n",
              "     comp_7  \n",
              "0  0.057721  \n",
              "1  0.054374  \n",
              "2 -0.029904  \n",
              "3  0.106854  \n",
              "4 -0.058182  "
            ],
            "text/html": [
              "\n",
              "  <div id=\"df-bc86b72a-76fa-4ac2-8021-7171f7584084\">\n",
              "    <div class=\"colab-df-container\">\n",
              "      <div>\n",
              "<style scoped>\n",
              "    .dataframe tbody tr th:only-of-type {\n",
              "        vertical-align: middle;\n",
              "    }\n",
              "\n",
              "    .dataframe tbody tr th {\n",
              "        vertical-align: top;\n",
              "    }\n",
              "\n",
              "    .dataframe thead th {\n",
              "        text-align: right;\n",
              "    }\n",
              "</style>\n",
              "<table border=\"1\" class=\"dataframe\">\n",
              "  <thead>\n",
              "    <tr style=\"text-align: right;\">\n",
              "      <th></th>\n",
              "      <th>comp_0</th>\n",
              "      <th>comp_1</th>\n",
              "      <th>comp_2</th>\n",
              "      <th>comp_3</th>\n",
              "      <th>comp_4</th>\n",
              "      <th>comp_5</th>\n",
              "      <th>comp_6</th>\n",
              "      <th>comp_7</th>\n",
              "    </tr>\n",
              "  </thead>\n",
              "  <tbody>\n",
              "    <tr>\n",
              "      <th>0</th>\n",
              "      <td>-0.080669</td>\n",
              "      <td>-0.088225</td>\n",
              "      <td>0.061961</td>\n",
              "      <td>0.000879</td>\n",
              "      <td>-0.022261</td>\n",
              "      <td>-0.055580</td>\n",
              "      <td>-0.058733</td>\n",
              "      <td>0.057721</td>\n",
              "    </tr>\n",
              "    <tr>\n",
              "      <th>1</th>\n",
              "      <td>0.094667</td>\n",
              "      <td>-0.037107</td>\n",
              "      <td>0.008231</td>\n",
              "      <td>0.012011</td>\n",
              "      <td>0.108699</td>\n",
              "      <td>0.004502</td>\n",
              "      <td>0.045785</td>\n",
              "      <td>0.054374</td>\n",
              "    </tr>\n",
              "    <tr>\n",
              "      <th>2</th>\n",
              "      <td>0.073401</td>\n",
              "      <td>0.052319</td>\n",
              "      <td>0.003684</td>\n",
              "      <td>0.019873</td>\n",
              "      <td>0.015031</td>\n",
              "      <td>-0.148873</td>\n",
              "      <td>-0.061777</td>\n",
              "      <td>-0.029904</td>\n",
              "    </tr>\n",
              "    <tr>\n",
              "      <th>3</th>\n",
              "      <td>-0.012667</td>\n",
              "      <td>0.022515</td>\n",
              "      <td>-0.062486</td>\n",
              "      <td>0.057293</td>\n",
              "      <td>0.013285</td>\n",
              "      <td>0.021625</td>\n",
              "      <td>-0.086482</td>\n",
              "      <td>0.106854</td>\n",
              "    </tr>\n",
              "    <tr>\n",
              "      <th>4</th>\n",
              "      <td>-0.013443</td>\n",
              "      <td>0.048202</td>\n",
              "      <td>-0.015558</td>\n",
              "      <td>0.016114</td>\n",
              "      <td>0.026435</td>\n",
              "      <td>-0.045652</td>\n",
              "      <td>0.079718</td>\n",
              "      <td>-0.058182</td>\n",
              "    </tr>\n",
              "  </tbody>\n",
              "</table>\n",
              "</div>\n",
              "      <button class=\"colab-df-convert\" onclick=\"convertToInteractive('df-bc86b72a-76fa-4ac2-8021-7171f7584084')\"\n",
              "              title=\"Convert this dataframe to an interactive table.\"\n",
              "              style=\"display:none;\">\n",
              "        \n",
              "  <svg xmlns=\"http://www.w3.org/2000/svg\" height=\"24px\"viewBox=\"0 0 24 24\"\n",
              "       width=\"24px\">\n",
              "    <path d=\"M0 0h24v24H0V0z\" fill=\"none\"/>\n",
              "    <path d=\"M18.56 5.44l.94 2.06.94-2.06 2.06-.94-2.06-.94-.94-2.06-.94 2.06-2.06.94zm-11 1L8.5 8.5l.94-2.06 2.06-.94-2.06-.94L8.5 2.5l-.94 2.06-2.06.94zm10 10l.94 2.06.94-2.06 2.06-.94-2.06-.94-.94-2.06-.94 2.06-2.06.94z\"/><path d=\"M17.41 7.96l-1.37-1.37c-.4-.4-.92-.59-1.43-.59-.52 0-1.04.2-1.43.59L10.3 9.45l-7.72 7.72c-.78.78-.78 2.05 0 2.83L4 21.41c.39.39.9.59 1.41.59.51 0 1.02-.2 1.41-.59l7.78-7.78 2.81-2.81c.8-.78.8-2.07 0-2.86zM5.41 20L4 18.59l7.72-7.72 1.47 1.35L5.41 20z\"/>\n",
              "  </svg>\n",
              "      </button>\n",
              "      \n",
              "  <style>\n",
              "    .colab-df-container {\n",
              "      display:flex;\n",
              "      flex-wrap:wrap;\n",
              "      gap: 12px;\n",
              "    }\n",
              "\n",
              "    .colab-df-convert {\n",
              "      background-color: #E8F0FE;\n",
              "      border: none;\n",
              "      border-radius: 50%;\n",
              "      cursor: pointer;\n",
              "      display: none;\n",
              "      fill: #1967D2;\n",
              "      height: 32px;\n",
              "      padding: 0 0 0 0;\n",
              "      width: 32px;\n",
              "    }\n",
              "\n",
              "    .colab-df-convert:hover {\n",
              "      background-color: #E2EBFA;\n",
              "      box-shadow: 0px 1px 2px rgba(60, 64, 67, 0.3), 0px 1px 3px 1px rgba(60, 64, 67, 0.15);\n",
              "      fill: #174EA6;\n",
              "    }\n",
              "\n",
              "    [theme=dark] .colab-df-convert {\n",
              "      background-color: #3B4455;\n",
              "      fill: #D2E3FC;\n",
              "    }\n",
              "\n",
              "    [theme=dark] .colab-df-convert:hover {\n",
              "      background-color: #434B5C;\n",
              "      box-shadow: 0px 1px 3px 1px rgba(0, 0, 0, 0.15);\n",
              "      filter: drop-shadow(0px 1px 2px rgba(0, 0, 0, 0.3));\n",
              "      fill: #FFFFFF;\n",
              "    }\n",
              "  </style>\n",
              "\n",
              "      <script>\n",
              "        const buttonEl =\n",
              "          document.querySelector('#df-bc86b72a-76fa-4ac2-8021-7171f7584084 button.colab-df-convert');\n",
              "        buttonEl.style.display =\n",
              "          google.colab.kernel.accessAllowed ? 'block' : 'none';\n",
              "\n",
              "        async function convertToInteractive(key) {\n",
              "          const element = document.querySelector('#df-bc86b72a-76fa-4ac2-8021-7171f7584084');\n",
              "          const dataTable =\n",
              "            await google.colab.kernel.invokeFunction('convertToInteractive',\n",
              "                                                     [key], {});\n",
              "          if (!dataTable) return;\n",
              "\n",
              "          const docLinkHtml = 'Like what you see? Visit the ' +\n",
              "            '<a target=\"_blank\" href=https://colab.research.google.com/notebooks/data_table.ipynb>data table notebook</a>'\n",
              "            + ' to learn more about interactive tables.';\n",
              "          element.innerHTML = '';\n",
              "          dataTable['output_type'] = 'display_data';\n",
              "          await google.colab.output.renderOutput(dataTable, element);\n",
              "          const docLink = document.createElement('div');\n",
              "          docLink.innerHTML = docLinkHtml;\n",
              "          element.appendChild(docLink);\n",
              "        }\n",
              "      </script>\n",
              "    </div>\n",
              "  </div>\n",
              "  "
            ]
          },
          "metadata": {},
          "execution_count": 379
        }
      ]
    },
    {
      "cell_type": "code",
      "source": [
        "database = pd.read_csv(\"Week12_ExamExcel_BhumikaMittal.csv\")\n",
        "data = database.iloc[:,0:17]\n",
        "data = data.drop(['Date', 'NIFTY50'], axis=1)\n",
        "x = data\n",
        "y = database['NIFTY50']"
      ],
      "metadata": {
        "id": "BE7ArNnZ4VEw"
      },
      "execution_count": 380,
      "outputs": []
    },
    {
      "cell_type": "code",
      "source": [
        "from sklearn.decomposition import PCA\n",
        "\n",
        "pca = PCA()\n",
        "x_red = pca.fit_transform(scale(X))\n",
        "x_red"
      ],
      "metadata": {
        "colab": {
          "base_uri": "https://localhost:8080/"
        },
        "id": "YfOGJvLnCSAm",
        "outputId": "e358d1e7-f030-404c-9351-05b30876698b"
      },
      "execution_count": 381,
      "outputs": [
        {
          "output_type": "execute_result",
          "data": {
            "text/plain": [
              "array([[ 2.58666523,  1.43271104,  0.85539286, ..., -0.53965896,\n",
              "         0.46719283,  0.30839057],\n",
              "       [-3.03554516,  0.60259747,  0.11363601, ...,  0.04371623,\n",
              "        -0.36419907,  0.29050389],\n",
              "       [-2.35363661, -0.84962548,  0.05085591, ..., -1.44548746,\n",
              "         0.49140591, -0.15977156],\n",
              "       ...,\n",
              "       [-1.40965488,  0.64498282, -0.77961045, ...,  0.07222045,\n",
              "         0.31269893,  0.05454751],\n",
              "       [-0.28853615, -1.79149828,  1.12793415, ...,  0.35416942,\n",
              "        -0.65747534, -0.173476  ],\n",
              "       [ 1.79368632,  0.14449267,  0.50208306, ...,  0.62753956,\n",
              "        -0.02870569, -0.1822275 ]])"
            ]
          },
          "metadata": {},
          "execution_count": 381
        }
      ]
    },
    {
      "cell_type": "code",
      "source": [
        "#ref - https://analyticsindiamag.com/a-hands-on-guide-to-principal-component-regression-in-python/\n",
        "\n",
        "# Dividing the data into Training and Test with 80:20 ratio\n",
        "x_train, x_test, y_train, y_test = train_test_split(X, Y, test_size=0.20, random_state=42)\n",
        "\n",
        "x_train = pca.fit_transform(scale(x_train))\n",
        "x_test = pca.transform(scale(x_test))[:, 0:4]\n",
        "\n",
        "lm = LinearRegression()\n",
        "pcr = lm.fit(x_train[:,0:4], y_train)\n",
        "y_pred = pcr.predict(x_test)\n",
        "\n",
        "print(\"Predicted daily returns for NIFTY 50: \",y_pred)\n",
        "#print(\"Daily returns for NIFTY 50: \",y_test)"
      ],
      "metadata": {
        "colab": {
          "base_uri": "https://localhost:8080/"
        },
        "id": "KItMbdw818BL",
        "outputId": "c184b914-08cf-4f30-8bbd-674e59b510dd"
      },
      "execution_count": 385,
      "outputs": [
        {
          "output_type": "stream",
          "name": "stdout",
          "text": [
            "Predicted daily returns for NIFTY 50:  [-217.68071995  -42.13879424 -273.61360089  107.67723196  219.50749441\n",
            "   10.52696309 -296.67422258 -139.64631834 -244.94563885   98.84485337\n",
            "  334.1368636   -42.41205946 -156.65112715   18.83977601  208.51864021\n",
            "  143.3690247    80.19541241   98.00123368  437.09393122  104.94079494\n",
            " -144.50514042  114.65330452 -447.96484088    4.27982654   50.54038238\n",
            "   68.82307712 -249.82076845 -282.25663563   46.74264564  190.01059014\n",
            "  170.25040191  101.37068917  122.53583195  195.59893227  125.49148832\n",
            "  -12.53227466 -241.60928925 -108.60363354  -96.63059292   39.35830408\n",
            "   33.53235282   63.34308099 -199.12866499 -294.66558764   86.72988703\n",
            "  282.018624    258.0004611   -74.65215437  -17.50558641   48.55408893]\n"
          ]
        }
      ]
    },
    {
      "cell_type": "code",
      "source": [
        "#lower the accuracy, better the predicting accuracy of the model\n",
        "print(\"Accuracy: \", (np.sqrt(mean_squared_error(y_test, y_pred))))"
      ],
      "metadata": {
        "colab": {
          "base_uri": "https://localhost:8080/"
        },
        "id": "eRCwv8B9O2to",
        "outputId": "44eced91-7acc-4738-cb4b-8d6b4743401d"
      },
      "execution_count": 383,
      "outputs": [
        {
          "output_type": "stream",
          "name": "stdout",
          "text": [
            "Accuracy:  39.99165684035221\n"
          ]
        }
      ]
    },
    {
      "cell_type": "code",
      "source": [
        "#Scatter Plot for predicted and actual NIFTY50 returns over the last one year\n",
        "plt.scatter(y_test, y_pred)\n",
        "plt.xlabel('Actual Values')\n",
        "plt.ylabel('Predicted Values')\n",
        "\n",
        "plt.title('NIFTY 50 returns: Actual Values vs Predicted Values, over the last one year')\n",
        "\n",
        "# Trend line \n",
        "z = np.polyfit(y_test, y_pred, 1)\n",
        "p = np.poly1d(z)\n",
        "plt.plot(y_test,p(y_test),\"g--\")\n",
        "\n",
        "#This determines the accuracy of the model and also points out the outliers"
      ],
      "metadata": {
        "colab": {
          "base_uri": "https://localhost:8080/",
          "height": 312
        },
        "id": "28FfGSYk4Mn7",
        "outputId": "ed705086-e2c3-49af-ceda-a408197f9cce"
      },
      "execution_count": 384,
      "outputs": [
        {
          "output_type": "execute_result",
          "data": {
            "text/plain": [
              "[<matplotlib.lines.Line2D at 0x7f7cd9473d90>]"
            ]
          },
          "metadata": {},
          "execution_count": 384
        },
        {
          "output_type": "display_data",
          "data": {
            "text/plain": [
              "<Figure size 432x288 with 1 Axes>"
            ],
            "image/png": "[encoded data removed]"
          },
          "metadata": {
            "needs_background": "light"
          }
        }
      ]
    }
  ]
}